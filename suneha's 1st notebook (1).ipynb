{
 "cells": [
  {
   "cell_type": "code",
   "execution_count": 1,
   "id": "52b1d479",
   "metadata": {},
   "outputs": [
    {
     "name": "stdout",
     "output_type": "stream",
     "text": [
      "suneha sengar\n"
     ]
    }
   ],
   "source": [
    "print(\"suneha sengar\")"
   ]
  },
  {
   "cell_type": "code",
   "execution_count": 2,
   "id": "a965ec8a",
   "metadata": {},
   "outputs": [
    {
     "name": "stdout",
     "output_type": "stream",
     "text": [
      "15\n"
     ]
    }
   ],
   "source": [
    "s=10\n",
    "y=5\n",
    "print(s+y)\n"
   ]
  },
  {
   "cell_type": "code",
   "execution_count": null,
   "id": "d4bc846c",
   "metadata": {},
   "outputs": [],
   "source": []
  }
 ],
 "metadata": {
  "kernelspec": {
   "display_name": "Python 3 (ipykernel)",
   "language": "python",
   "name": "python3"
  },
  "language_info": {
   "codemirror_mode": {
    "name": "ipython",
    "version": 3
   },
   "file_extension": ".py",
   "mimetype": "text/x-python",
   "name": "python",
   "nbconvert_exporter": "python",
   "pygments_lexer": "ipython3",
   "version": "3.9.12"
  }
 },
 "nbformat": 4,
 "nbformat_minor": 5
}
